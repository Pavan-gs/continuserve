{
 "cells": [
  {
   "cell_type": "code",
   "execution_count": null,
   "id": "623c84cb-fe78-43f6-bc33-1d0e790886e0",
   "metadata": {},
   "outputs": [],
   "source": [
    "import pandas as pd"
   ]
  },
  {
   "cell_type": "code",
   "execution_count": null,
   "id": "f1964e0b-214d-41a2-8fcb-e83d841ef517",
   "metadata": {},
   "outputs": [],
   "source": [
    "dr=pd.date_range('09/19/2024 19:39:00', freq='D', periods=5)"
   ]
  },
  {
   "cell_type": "code",
   "execution_count": null,
   "id": "78c2b097-1a43-417c-bf7b-18edbc1d666f",
   "metadata": {},
   "outputs": [],
   "source": [
    "pd.date_range('09/19/2024', freq='7D', periods=5)"
   ]
  },
  {
   "cell_type": "code",
   "execution_count": null,
   "id": "ab2f7443-263a-483d-9255-4ba58fe00c20",
   "metadata": {},
   "outputs": [],
   "source": [
    "pd.date_range('09/19/2024', freq='M', periods=5)"
   ]
  },
  {
   "cell_type": "code",
   "execution_count": null,
   "id": "c59b706b-adda-4c62-a800-9566594fc3f3",
   "metadata": {},
   "outputs": [],
   "source": [
    "pd.date_range('09/19/2024', freq='3M', periods=5)"
   ]
  },
  {
   "cell_type": "code",
   "execution_count": null,
   "id": "17d1acf5-8821-4836-b8ac-cc9da58cbca5",
   "metadata": {},
   "outputs": [],
   "source": [
    "help(pd.date_range)"
   ]
  },
  {
   "cell_type": "code",
   "execution_count": null,
   "id": "4af75fdf-61d5-4242-98f4-43a4cf0b3913",
   "metadata": {},
   "outputs": [],
   "source": [
    "help(pd.Timestamp)"
   ]
  },
  {
   "cell_type": "code",
   "execution_count": null,
   "id": "28503ff7-15d2-4e6d-85b5-c02c1edb160b",
   "metadata": {},
   "outputs": [],
   "source": [
    "t=pd.Timestamp('09/19/2024')"
   ]
  },
  {
   "cell_type": "code",
   "execution_count": null,
   "id": "e7f525fc-9854-488a-b9a3-b867f1bedee2",
   "metadata": {},
   "outputs": [],
   "source": [
    "t.day"
   ]
  },
  {
   "cell_type": "code",
   "execution_count": null,
   "id": "72ccb464-3a9c-411e-b1c0-d003b5f816eb",
   "metadata": {},
   "outputs": [],
   "source": [
    "t.date"
   ]
  },
  {
   "cell_type": "code",
   "execution_count": null,
   "id": "b7a93263-1158-42e3-839c-f4e1d5a4962c",
   "metadata": {},
   "outputs": [],
   "source": [
    "t.day_of_week"
   ]
  },
  {
   "cell_type": "code",
   "execution_count": null,
   "id": "4f14bdf6-5b53-4d91-a187-632aa99782e4",
   "metadata": {},
   "outputs": [],
   "source": [
    "t.day_name()"
   ]
  },
  {
   "cell_type": "code",
   "execution_count": null,
   "id": "9326306d-a7bf-43a1-89ed-ec13cf991690",
   "metadata": {},
   "outputs": [],
   "source": [
    "t.month_name()"
   ]
  },
  {
   "cell_type": "code",
   "execution_count": null,
   "id": "c2f2d017-c6de-448c-8c2d-073c11fe62bd",
   "metadata": {},
   "outputs": [],
   "source": [
    "t.quarter"
   ]
  },
  {
   "cell_type": "code",
   "execution_count": null,
   "id": "718fb5ac-ac1b-4080-a355-35946d753a5b",
   "metadata": {},
   "outputs": [],
   "source": [
    "dir(t)"
   ]
  },
  {
   "cell_type": "code",
   "execution_count": null,
   "id": "7a3a67e3-8d39-4dd3-9169-0b19c53665e5",
   "metadata": {
    "scrolled": true
   },
   "outputs": [],
   "source": [
    "pd.Timestamp('09/19/2024 07:39 PM')"
   ]
  },
  {
   "cell_type": "code",
   "execution_count": null,
   "id": "0fe5e54d-2972-4c2a-a761-1a69acb222a3",
   "metadata": {},
   "outputs": [],
   "source": [
    "# Time offsets"
   ]
  },
  {
   "cell_type": "code",
   "execution_count": null,
   "id": "1e3efb11-0c68-4e11-bab7-c3282a7cf815",
   "metadata": {},
   "outputs": [],
   "source": [
    "pd.Timedelta('1 Day')"
   ]
  },
  {
   "cell_type": "code",
   "execution_count": null,
   "id": "1a69e904-1dfc-4888-b5c3-eb36104ad16b",
   "metadata": {},
   "outputs": [],
   "source": [
    "pd.Timedelta('1 Day 1 ms')"
   ]
  },
  {
   "cell_type": "code",
   "execution_count": null,
   "id": "29a65ce0-b2c5-4b5f-8a1d-0f4917ce5af4",
   "metadata": {},
   "outputs": [],
   "source": [
    "pd.Timedelta('1 Day 1 ns')"
   ]
  },
  {
   "cell_type": "code",
   "execution_count": null,
   "id": "46d2c524-2065-408f-b7cb-31a5220e3643",
   "metadata": {},
   "outputs": [],
   "source": [
    "pd.Timedelta('1 Day 1 m')"
   ]
  },
  {
   "cell_type": "code",
   "execution_count": null,
   "id": "c9df57e0-edeb-4f63-8670-d0621a63229f",
   "metadata": {},
   "outputs": [],
   "source": [
    "pd.Timedelta('1 Day 1 hr')"
   ]
  },
  {
   "cell_type": "code",
   "execution_count": null,
   "id": "4d8dd56d-b341-468e-950f-32e2ab30930e",
   "metadata": {},
   "outputs": [],
   "source": [
    "pd.Timedelta('1 Day 10hr05m8s')"
   ]
  },
  {
   "cell_type": "code",
   "execution_count": null,
   "id": "f95dbba9-c449-49f7-b0fd-89e0e52271d8",
   "metadata": {},
   "outputs": [],
   "source": [
    "pd.Timestamp('2024-09-19 19:39:00') - pd.Timedelta('10hr05m8s')"
   ]
  },
  {
   "cell_type": "code",
   "execution_count": null,
   "id": "9e4ddcda-fa02-41f0-a716-6cdeb48afd7f",
   "metadata": {},
   "outputs": [],
   "source": [
    "pd.Timestamp('2024-09-19 19:39:00') + pd.Timedelta('8 days 10 hours')"
   ]
  },
  {
   "cell_type": "code",
   "execution_count": null,
   "id": "2ecb60a6-e21f-45ff-8b05-4593063a2498",
   "metadata": {},
   "outputs": [],
   "source": [
    "# Time spans"
   ]
  },
  {
   "cell_type": "code",
   "execution_count": null,
   "id": "99a6315e-3a87-4bb1-85f1-dad79b164075",
   "metadata": {},
   "outputs": [],
   "source": [
    "p = pd.Period('September 2024')"
   ]
  },
  {
   "cell_type": "code",
   "execution_count": null,
   "id": "e6a7a3d9-b82d-4224-8ac4-3a416759b353",
   "metadata": {},
   "outputs": [],
   "source": [
    "pd.Period('September 19 2023')"
   ]
  },
  {
   "cell_type": "code",
   "execution_count": null,
   "id": "5340defe-58e9-4fcf-afa2-c976d93752ba",
   "metadata": {},
   "outputs": [],
   "source": [
    "dir(p)"
   ]
  },
  {
   "cell_type": "code",
   "execution_count": null,
   "id": "bad021c7-d7b2-45cc-853e-0cea7d563898",
   "metadata": {},
   "outputs": [],
   "source": [
    "p.start_time"
   ]
  },
  {
   "cell_type": "code",
   "execution_count": null,
   "id": "68d58a2b-ac56-407f-b157-bf0e5359d522",
   "metadata": {},
   "outputs": [],
   "source": [
    "p.end_time"
   ]
  },
  {
   "cell_type": "code",
   "execution_count": null,
   "id": "10d5214c-66d9-4819-b3ce-ebe9e2537ce5",
   "metadata": {},
   "outputs": [],
   "source": [
    "t = pd.Timestamp('September 19 2024')"
   ]
  },
  {
   "cell_type": "code",
   "execution_count": null,
   "id": "f8c908d5-9243-4b03-b640-e91414b3def2",
   "metadata": {},
   "outputs": [],
   "source": [
    "(p.start_time<t) & (p.end_time>t)"
   ]
  },
  {
   "cell_type": "code",
   "execution_count": null,
   "id": "1473fa85-f936-4b4c-b8a3-a08082bbaeb8",
   "metadata": {},
   "outputs": [],
   "source": [
    "weekstart_sept = pd.period_range('19 September 2024', freq='7D', periods=4)"
   ]
  },
  {
   "cell_type": "code",
   "execution_count": null,
   "id": "a9e0171d-902f-43de-9fdd-165d1e57ebd3",
   "metadata": {},
   "outputs": [],
   "source": [
    "pd.date_range(\"2024-09-19\",'2024-09-30', freq='D')"
   ]
  },
  {
   "cell_type": "code",
   "execution_count": null,
   "id": "8f46abd7-2a71-444f-9a74-fd1edb96d717",
   "metadata": {},
   "outputs": [],
   "source": [
    "pd.period_range('2024-09','2024-12', freq='M')"
   ]
  },
  {
   "cell_type": "code",
   "execution_count": null,
   "id": "bd7e3c7d-6f09-487f-9fb8-baf70e5882ab",
   "metadata": {},
   "outputs": [],
   "source": [
    "# offset aliases"
   ]
  },
  {
   "cell_type": "code",
   "execution_count": null,
   "id": "f43864ae-546e-43b4-ade4-b049e358ee19",
   "metadata": {},
   "outputs": [],
   "source": [
    "num_periods = 10"
   ]
  },
  {
   "cell_type": "code",
   "execution_count": null,
   "id": "0b2a98a3-a837-448d-a620-25cfb6366e2b",
   "metadata": {},
   "outputs": [],
   "source": [
    "td = pd.Series(range(num_periods), pd.date_range('2024-09-19 20:10:05', freq='1B', periods=num_periods))"
   ]
  },
  {
   "cell_type": "code",
   "execution_count": null,
   "id": "5e6a4bc2-7949-4243-a74f-a1b0ef940355",
   "metadata": {},
   "outputs": [],
   "source": [
    "help(pd.date_range)"
   ]
  },
  {
   "cell_type": "code",
   "execution_count": null,
   "id": "19cd2e73-3265-4f29-91b0-dfb8c63dc34a",
   "metadata": {},
   "outputs": [],
   "source": [
    "pd.Series(range(num_periods), pd.date_range('2024-09-19 20:10:05', freq='3B', periods=num_periods))"
   ]
  },
  {
   "cell_type": "code",
   "execution_count": null,
   "id": "09b10ace-8e97-4233-9b83-09a98a3519a0",
   "metadata": {},
   "outputs": [],
   "source": [
    "from pandas.tseries.holiday import USFederalHolidayCalendar"
   ]
  },
  {
   "cell_type": "code",
   "execution_count": null,
   "id": "4fc49308-4664-4331-a2ee-9acc5d7a1439",
   "metadata": {},
   "outputs": [],
   "source": [
    "cl=USFederalHolidayCalendar()"
   ]
  },
  {
   "cell_type": "code",
   "execution_count": null,
   "id": "efd80c25-dcc7-4da1-97f1-2bec0ad60f0a",
   "metadata": {},
   "outputs": [],
   "source": [
    "cl.holidays(start='2024-09-19',end='2024-12-30')"
   ]
  },
  {
   "cell_type": "code",
   "execution_count": null,
   "id": "7a5b8186-340b-4003-aa21-66a9fb96878c",
   "metadata": {},
   "outputs": [],
   "source": [
    "#pd.date_range('2024-09-19', freq='C',weekmask=[2,3,4])"
   ]
  },
  {
   "cell_type": "code",
   "execution_count": null,
   "id": "39375cd9-78ed-443d-a1c5-33fc317d3f15",
   "metadata": {},
   "outputs": [],
   "source": [
    "dr=pd.date_range('2024-09-19','2024-10-30')"
   ]
  },
  {
   "cell_type": "code",
   "execution_count": null,
   "id": "4baa07ff-c892-4884-b7d0-944e1878ec40",
   "metadata": {},
   "outputs": [],
   "source": [
    "working_days = [date for date in dr if date.weekday() in [2,3,4]]"
   ]
  },
  {
   "cell_type": "code",
   "execution_count": null,
   "id": "82c57a39-d3a6-43fd-bb6a-23268dbc5347",
   "metadata": {},
   "outputs": [],
   "source": [
    "td.index"
   ]
  },
  {
   "cell_type": "code",
   "execution_count": null,
   "id": "5f2529a3-a627-4422-ad4c-975f6bfa681d",
   "metadata": {},
   "outputs": [],
   "source": [
    "td.to_period().index"
   ]
  },
  {
   "cell_type": "code",
   "execution_count": null,
   "id": "9449c041-9026-49ec-95c3-1ac5858b5b73",
   "metadata": {},
   "outputs": [],
   "source": [
    "pd.Timestamp('24 September 2024')"
   ]
  },
  {
   "cell_type": "code",
   "execution_count": null,
   "id": "71412218-0c62-4032-8a7b-bc7bb4fb1499",
   "metadata": {},
   "outputs": [],
   "source": [
    "# ML for time series"
   ]
  },
  {
   "cell_type": "code",
   "execution_count": null,
   "id": "e50e4406-843f-44ba-a809-1ff843ec329d",
   "metadata": {},
   "outputs": [],
   "source": [
    "energy = pd.read_csv(\"E:/data/Energy.csv\", index_col=0)"
   ]
  },
  {
   "cell_type": "code",
   "execution_count": null,
   "id": "07b811ba-8e4e-4d5b-8575-7048e69cfb76",
   "metadata": {},
   "outputs": [],
   "source": [
    "energy[:5]"
   ]
  },
  {
   "cell_type": "code",
   "execution_count": null,
   "id": "0bc8f691-bb7d-4082-82d4-63f5c7ad62d3",
   "metadata": {},
   "outputs": [],
   "source": [
    "energy.shape"
   ]
  },
  {
   "cell_type": "code",
   "execution_count": null,
   "id": "948e07c5-0966-45ab-bf05-1d35f8c6d743",
   "metadata": {},
   "outputs": [],
   "source": [
    "energy.index"
   ]
  },
  {
   "cell_type": "code",
   "execution_count": null,
   "id": "663765fc-0909-4501-abde-e99a6f46cbce",
   "metadata": {},
   "outputs": [],
   "source": [
    "energy.info()"
   ]
  },
  {
   "cell_type": "code",
   "execution_count": null,
   "id": "38061c61-66ec-487e-8105-bfdc8854a2a5",
   "metadata": {},
   "outputs": [],
   "source": [
    "energy.index = pd.to_datetime(energy.index)"
   ]
  },
  {
   "cell_type": "code",
   "execution_count": null,
   "id": "d28c71bf-3647-4cfb-85e5-8e54219b2ceb",
   "metadata": {},
   "outputs": [],
   "source": [
    "energy.isna().sum()"
   ]
  },
  {
   "cell_type": "code",
   "execution_count": null,
   "id": "4c003ceb-da08-4256-b8e1-0fcae20e07fe",
   "metadata": {},
   "outputs": [],
   "source": [
    "energy.index.nunique()"
   ]
  },
  {
   "cell_type": "code",
   "execution_count": null,
   "id": "2d2319f4-7e63-4b08-b5ba-bda21e32c524",
   "metadata": {},
   "outputs": [],
   "source": [
    "energy.index.min()"
   ]
  },
  {
   "cell_type": "code",
   "execution_count": null,
   "id": "c0b53c83-9de6-48ba-8e56-433383c33d77",
   "metadata": {},
   "outputs": [],
   "source": [
    "energy.index.max()"
   ]
  },
  {
   "cell_type": "code",
   "execution_count": null,
   "id": "852581ef-0785-425b-b279-c0fe963d9495",
   "metadata": {},
   "outputs": [],
   "source": [
    "energy.index.max()-energy.index.min()"
   ]
  },
  {
   "cell_type": "code",
   "execution_count": null,
   "id": "1eb3dba2-2712-4396-98ae-8cb6f4c9ddf7",
   "metadata": {},
   "outputs": [],
   "source": [
    "#!pip install chart-studio"
   ]
  },
  {
   "cell_type": "code",
   "execution_count": null,
   "id": "ac48692d-3f3e-4e4a-b625-5021835cc750",
   "metadata": {},
   "outputs": [],
   "source": [
    "import chart_studio.plotly as ply"
   ]
  },
  {
   "cell_type": "code",
   "execution_count": null,
   "id": "fe981f83-29dd-469c-a370-db93cb69acf7",
   "metadata": {},
   "outputs": [],
   "source": [
    "#!pip install cufflinks"
   ]
  },
  {
   "cell_type": "code",
   "execution_count": null,
   "id": "4a2ab8f9-dd78-4d0e-8fec-923462d6f6ae",
   "metadata": {},
   "outputs": [],
   "source": [
    "import warnings\n",
    "warnings.filterwarnings('ignore')"
   ]
  },
  {
   "cell_type": "code",
   "execution_count": null,
   "id": "c2baa3cc-7677-40ae-88e1-f4e88bf2d6b1",
   "metadata": {},
   "outputs": [],
   "source": [
    "import cufflinks as cl"
   ]
  },
  {
   "cell_type": "code",
   "execution_count": null,
   "id": "610053f8-9630-4483-a035-9e245e8a7f25",
   "metadata": {},
   "outputs": [],
   "source": [
    "energy.iplot()"
   ]
  },
  {
   "cell_type": "code",
   "execution_count": null,
   "id": "f75b63a3-f882-429d-8fe1-6f277ac469ac",
   "metadata": {},
   "outputs": [],
   "source": [
    "energy.columns = ['energy_production']"
   ]
  },
  {
   "cell_type": "code",
   "execution_count": null,
   "id": "25ad0d1c-09b4-4850-9b2a-aefc35dacc2c",
   "metadata": {},
   "outputs": [],
   "source": [
    "import matplotlib.pyplot as plt"
   ]
  },
  {
   "cell_type": "raw",
   "id": "a5619e35-b408-4da5-b182-d26fa7833f3d",
   "metadata": {},
   "source": [
    "# Decompose the time series data\n",
    "\n",
    "Trend\n",
    "Seasonality\n",
    "Cyclical\n",
    "Irregularity"
   ]
  },
  {
   "cell_type": "code",
   "execution_count": null,
   "id": "2b179b74-b25a-43c9-8266-eb88d1ad7b64",
   "metadata": {},
   "outputs": [],
   "source": [
    "plt.plot(energy['energy_production'])"
   ]
  },
  {
   "cell_type": "code",
   "execution_count": null,
   "id": "d3e5ab10-9f02-458b-a496-e6ee3bc16e79",
   "metadata": {},
   "outputs": [],
   "source": [
    "def plot_df(energy, x, y, title = \"\", xlabel=\"DATE\", ylabel=\"energy_production\"):\n",
    "    plt.figure(figsize=(10,5))\n",
    "    plt.plot(x,y,color='tab:red')\n",
    "    plt.gca().set(title=title, xlabel=xlabel,ylabel=ylabel)\n",
    "    plt.show()"
   ]
  },
  {
   "cell_type": "code",
   "execution_count": null,
   "id": "815cba07-e4fd-4ed9-9b79-441a851f49cf",
   "metadata": {},
   "outputs": [],
   "source": [
    "plot_df(energy, x=energy.index,y=energy.energy_production, title=\"Monthly energy produced\")"
   ]
  },
  {
   "cell_type": "code",
   "execution_count": null,
   "id": "1f86241b-4c65-43fd-89b2-92f029aa0b72",
   "metadata": {},
   "outputs": [],
   "source": [
    "# ensure we have complete data for all 80 years\n",
    "80*12+(4)"
   ]
  },
  {
   "cell_type": "raw",
   "id": "16103715-1f53-4d9f-a80c-1d9fb8e9e45f",
   "metadata": {},
   "source": [
    "2000 yr\n",
    "2024 yr\n",
    "\n",
    "24 years data\n",
    "but 2 years (2005 and 2006) data is missing"
   ]
  },
  {
   "cell_type": "code",
   "execution_count": null,
   "id": "e8739d52-1b19-48f6-b206-8bac26c93e7e",
   "metadata": {},
   "outputs": [],
   "source": [
    "# If time series data is missing or having irregular intervals, gaps\n",
    "\n",
    "# Interpolation --> Linear / polynomial interpolation, Seasonal decomposition\n",
    "# Imputation --> Mean/median"
   ]
  },
  {
   "cell_type": "code",
   "execution_count": null,
   "id": "a71ad0a4-fcc4-4dde-b91f-42c1440a274d",
   "metadata": {},
   "outputs": [],
   "source": [
    "energy1 = energy.reset_index()"
   ]
  },
  {
   "cell_type": "code",
   "execution_count": null,
   "id": "b89c835a-9560-4f7c-a29c-9b184df253dd",
   "metadata": {},
   "outputs": [],
   "source": [
    "energy1.columns"
   ]
  },
  {
   "cell_type": "code",
   "execution_count": null,
   "id": "acf8a0b2-1043-42ec-bc49-e7f6b8fd534d",
   "metadata": {},
   "outputs": [],
   "source": [
    "energy1['year'] = [d.year for d in energy1.DATE]"
   ]
  },
  {
   "cell_type": "code",
   "execution_count": null,
   "id": "e672e80b-1d32-4841-9060-f454ae13ceb1",
   "metadata": {},
   "outputs": [],
   "source": [
    "energy1['month'] = [d.strftime('%b ') for d in energy1.DATE]"
   ]
  },
  {
   "cell_type": "code",
   "execution_count": null,
   "id": "d8ca04cc-f6f1-4c94-bbae-49737602f296",
   "metadata": {},
   "outputs": [],
   "source": [
    "energy1[:5]"
   ]
  },
  {
   "cell_type": "code",
   "execution_count": null,
   "id": "b738c088-1980-4a20-a3a2-fcbb89254e45",
   "metadata": {},
   "outputs": [],
   "source": [
    "energy1['year'].min()"
   ]
  },
  {
   "cell_type": "code",
   "execution_count": null,
   "id": "68e6ceeb-591c-4a2f-93a9-831bcfb45e9e",
   "metadata": {},
   "outputs": [],
   "source": [
    "energy1['year'].max()"
   ]
  },
  {
   "cell_type": "code",
   "execution_count": null,
   "id": "2f77a425-690e-412e-b1ad-c9ce82aabccb",
   "metadata": {},
   "outputs": [],
   "source": [
    "import seaborn as sns"
   ]
  },
  {
   "cell_type": "code",
   "execution_count": null,
   "id": "f4343e1f-668e-422a-8628-bef2b5ab7217",
   "metadata": {},
   "outputs": [],
   "source": [
    "fig, axes = plt.subplots(1,2, figsize = (20,8), dpi = 80)\n",
    "sns.boxplot(x='year',y='energy_production', data = energy1, ax=axes[0])\n",
    "sns.boxplot(x='month',y='energy_production', data = energy1.loc[~energy1.year.isin([1939,2019]),:])\n",
    "axes[0].set_title(\"yearly plot\")\n",
    "axes[1].set_title(\"monthly plot\")\n",
    "plt.show()"
   ]
  },
  {
   "cell_type": "code",
   "execution_count": null,
   "id": "a759188c-0646-44a8-b3d3-26cb5d51000e",
   "metadata": {},
   "outputs": [],
   "source": [
    "# Decompose the time Series data"
   ]
  },
  {
   "cell_type": "code",
   "execution_count": null,
   "id": "de62d29d-81e6-4122-a589-ee50b5c8967b",
   "metadata": {},
   "outputs": [],
   "source": [
    "from statsmodels.tsa.seasonal import seasonal_decompose"
   ]
  },
  {
   "cell_type": "code",
   "execution_count": null,
   "id": "cbe8bd4b-08ea-4f76-aea1-11d61dbcb7b7",
   "metadata": {},
   "outputs": [],
   "source": [
    "res=seasonal_decompose(energy)"
   ]
  },
  {
   "cell_type": "code",
   "execution_count": null,
   "id": "66c9ed45-71a0-4230-a209-fe41012f8976",
   "metadata": {},
   "outputs": [],
   "source": [
    "fig = res.plot()"
   ]
  },
  {
   "cell_type": "code",
   "execution_count": null,
   "id": "34aa8415-6c66-49a4-ae19-7def74b29db9",
   "metadata": {},
   "outputs": [],
   "source": [
    "ply.plot_mpl(fig)"
   ]
  },
  {
   "cell_type": "code",
   "execution_count": null,
   "id": "fcbe67ea-5991-4b9a-b463-ee4906d0a685",
   "metadata": {},
   "outputs": [],
   "source": [
    "years = energy1.year.unique()"
   ]
  },
  {
   "cell_type": "code",
   "execution_count": null,
   "id": "802366b4-3a65-47dd-9ebd-17fd5a15d2dc",
   "metadata": {},
   "outputs": [],
   "source": [
    "years"
   ]
  },
  {
   "cell_type": "code",
   "execution_count": null,
   "id": "cca7b9d4-79e9-41ff-b4dd-fd2336d3701e",
   "metadata": {},
   "outputs": [],
   "source": [
    "import numpy as np"
   ]
  },
  {
   "cell_type": "code",
   "execution_count": null,
   "id": "4e1f1030-3f6e-4ee6-b559-c3b04842c596",
   "metadata": {},
   "outputs": [],
   "source": [
    "np.random.seed(8)"
   ]
  },
  {
   "cell_type": "code",
   "execution_count": null,
   "id": "ba05a292-4c96-4a23-a311-89cbf1c2e5e2",
   "metadata": {},
   "outputs": [],
   "source": [
    "import matplotlib as mpl"
   ]
  },
  {
   "cell_type": "code",
   "execution_count": null,
   "id": "7b6a13d8-c638-4e53-8551-89b227c30157",
   "metadata": {},
   "outputs": [],
   "source": [
    "mycolors = np.random.choice(list(mpl.colors.XKCD_COLORS.keys()), len(years), replace = False)"
   ]
  },
  {
   "cell_type": "code",
   "execution_count": null,
   "id": "28d4133d-e741-45e8-991a-5d03ab0100cc",
   "metadata": {},
   "outputs": [],
   "source": [
    "mycolors"
   ]
  },
  {
   "cell_type": "code",
   "execution_count": null,
   "id": "1fbb8a5d-aff5-43d9-aa7a-b32394f310b7",
   "metadata": {},
   "outputs": [],
   "source": [
    "plt.figure(figsize=(15,10), dpi=80)\n",
    "for i,j in enumerate(years):\n",
    "    if i>0:\n",
    "        plt.plot('month','energy_production', data=energy1.loc[energy1.year==j, :], \n",
    "                 color=mycolors[i], \n",
    "                 label=j)\n",
    "        plt.text(energy1.loc[energy1.year==j,:].shape[0]-.9, \n",
    "                 energy1.loc[energy1.year==j,'energy_production'][-1:].values[0], j, \n",
    "                 fontsize=12, color=mycolors[i])"
   ]
  },
  {
   "cell_type": "code",
   "execution_count": null,
   "id": "e6613544-0d4e-45c9-899a-12eafb1a0c38",
   "metadata": {},
   "outputs": [],
   "source": [
    "energy[:5]"
   ]
  },
  {
   "cell_type": "code",
   "execution_count": null,
   "id": "d37ac5d9-1134-4f56-babf-6ec1d21d19c2",
   "metadata": {},
   "outputs": [],
   "source": [
    "[100,120,150,?]"
   ]
  },
  {
   "cell_type": "code",
   "execution_count": null,
   "id": "42f32a88-6ea2-42c5-a32d-b5cfbb1cbf7b",
   "metadata": {},
   "outputs": [],
   "source": [
    "# Auto-regression [AR] --> Predict future values using past values"
   ]
  },
  {
   "cell_type": "code",
   "execution_count": null,
   "id": "e1e8500e-6210-4707-9ff6-bf224022a6b0",
   "metadata": {},
   "outputs": [],
   "source": [
    "# Daily website traffic"
   ]
  },
  {
   "cell_type": "code",
   "execution_count": null,
   "id": "bd23ffcc-6b10-4673-8e8d-5af72853f2a2",
   "metadata": {},
   "outputs": [],
   "source": [
    "model --> traffic_t = 0.8*traffic(t-1)+20"
   ]
  },
  {
   "cell_type": "code",
   "execution_count": null,
   "id": "93b2f497-faff-46c1-b274-d7c95d6bb738",
   "metadata": {},
   "outputs": [],
   "source": [
    "# Moving-average --> Predict the fiture values using past errors"
   ]
  },
  {
   "cell_type": "code",
   "execution_count": null,
   "id": "4d96c645-5a6c-4113-8af4-4d5fd3a35a70",
   "metadata": {},
   "outputs": [],
   "source": [
    "# Daily stock prices"
   ]
  },
  {
   "cell_type": "raw",
   "id": "2c827e0e-c80f-471d-affe-7f7ecc792d72",
   "metadata": {},
   "source": [
    "model --> price_t = 100+0.5*(err(t-1))+0.3*(err(t-2))"
   ]
  },
  {
   "cell_type": "code",
   "execution_count": null,
   "id": "cab8f34a-e0e9-436d-858a-2c3bbf94c466",
   "metadata": {},
   "outputs": [],
   "source": [
    "# ARMA"
   ]
  },
  {
   "cell_type": "code",
   "execution_count": null,
   "id": "167b2b18-28fc-42fb-b68f-c2b2e73a7066",
   "metadata": {},
   "outputs": [],
   "source": [
    "# Daily sales"
   ]
  },
  {
   "cell_type": "code",
   "execution_count": null,
   "id": "9463bd1d-d4f6-4bcc-acab-49c5e93c7c23",
   "metadata": {},
   "outputs": [],
   "source": [
    "model --> sales_t = 0.8*sales(t-1)+20+0.5*err(t-1)"
   ]
  },
  {
   "cell_type": "code",
   "execution_count": null,
   "id": "0d6bb5cc-8626-4fca-909e-0e0645590580",
   "metadata": {},
   "outputs": [],
   "source": [
    "b0+b1*x1"
   ]
  },
  {
   "cell_type": "code",
   "execution_count": null,
   "id": "8cbbcd48-b1fa-4078-bf40-89891423e2b6",
   "metadata": {},
   "outputs": [],
   "source": [
    "# ARIMA --> AR + I + MA (non-stationary data)"
   ]
  },
  {
   "cell_type": "code",
   "execution_count": null,
   "id": "d718109b-a33c-4afa-ac4e-0e4a85811208",
   "metadata": {},
   "outputs": [],
   "source": [
    "# Monthly GDP"
   ]
  },
  {
   "cell_type": "markdown",
   "id": "ce89f61f-7bf0-426a-8b53-e43cce3ec9f7",
   "metadata": {},
   "source": [
    "diff(gdp_t) = 0.8*(diff(gdp(t-1)))+20+0.5*err(t-1)"
   ]
  },
  {
   "cell_type": "code",
   "execution_count": null,
   "id": "18cfeb90-36f9-465d-af08-4f172a05764b",
   "metadata": {},
   "outputs": [],
   "source": [
    "data = pd.Series([100,120,150,180,200])"
   ]
  },
  {
   "cell_type": "code",
   "execution_count": null,
   "id": "4c8e631d-575b-493b-b9b2-15df862d5be3",
   "metadata": {},
   "outputs": [],
   "source": [
    "from statsmodels.tsa.ar_model import AutoReg"
   ]
  },
  {
   "cell_type": "code",
   "execution_count": null,
   "id": "ec6d4d4f-8155-4c5e-b9d4-988c7a905002",
   "metadata": {},
   "outputs": [],
   "source": [
    "from statsmodels.tsa.arima.model import ARIMA"
   ]
  },
  {
   "cell_type": "code",
   "execution_count": null,
   "id": "95408dad-8088-4181-8050-97027770560c",
   "metadata": {},
   "outputs": [],
   "source": [
    "model = AutoReg(data, lags=1)"
   ]
  },
  {
   "cell_type": "code",
   "execution_count": null,
   "id": "a2012ccf-f5db-471b-8849-400335c48d7d",
   "metadata": {},
   "outputs": [],
   "source": [
    "ar_model = model.fit()"
   ]
  },
  {
   "cell_type": "code",
   "execution_count": null,
   "id": "c538cf1b-2f62-481a-bea2-0c78a1a3adec",
   "metadata": {},
   "outputs": [],
   "source": [
    "print(ar_model.params)"
   ]
  },
  {
   "cell_type": "code",
   "execution_count": null,
   "id": "61f1d72d-f416-4d29-aad9-b9bcc541b617",
   "metadata": {},
   "outputs": [],
   "source": [
    "ar_model.forecast(10)"
   ]
  },
  {
   "cell_type": "code",
   "execution_count": null,
   "id": "5d275c3b-abd4-4623-b3d3-277a6832a88d",
   "metadata": {},
   "outputs": [],
   "source": [
    "# MA"
   ]
  },
  {
   "cell_type": "code",
   "execution_count": null,
   "id": "4e25bc7b-f777-4e0c-96c8-926191853d61",
   "metadata": {},
   "outputs": [],
   "source": [
    "model = AutoReg(data, lags=0, trend='C', seasonal=False)"
   ]
  },
  {
   "cell_type": "code",
   "execution_count": null,
   "id": "52aaa28b-e44e-4225-a989-58860ce90406",
   "metadata": {},
   "outputs": [],
   "source": [
    "ma_model = model.fit()"
   ]
  },
  {
   "cell_type": "code",
   "execution_count": null,
   "id": "80cc3d97-d569-452d-a2ee-dee7dea435be",
   "metadata": {},
   "outputs": [],
   "source": [
    "ma_model.forecast(1)"
   ]
  },
  {
   "cell_type": "code",
   "execution_count": null,
   "id": "9f4efd9d-99ee-4951-aae6-40a025b425f0",
   "metadata": {},
   "outputs": [],
   "source": [
    "# AR = 1, MA = 1"
   ]
  },
  {
   "cell_type": "code",
   "execution_count": null,
   "id": "b87a2513-8353-402b-a760-c8d389bcc100",
   "metadata": {},
   "outputs": [],
   "source": [
    "model = AutoReg(data, lags=1, trend='C', seasonal=False)"
   ]
  },
  {
   "cell_type": "code",
   "execution_count": null,
   "id": "21801273-ad2e-4276-8e0c-ee770f701ace",
   "metadata": {},
   "outputs": [],
   "source": [
    "arma_model = model.fit()"
   ]
  },
  {
   "cell_type": "code",
   "execution_count": null,
   "id": "659f5efa-6a51-4dc9-b22b-9c4552d5946e",
   "metadata": {},
   "outputs": [],
   "source": [
    "arma_model.params"
   ]
  },
  {
   "cell_type": "code",
   "execution_count": null,
   "id": "80992427-a5b4-4dd7-b3a1-cefce6750822",
   "metadata": {},
   "outputs": [],
   "source": [
    "# ARIMA"
   ]
  },
  {
   "cell_type": "code",
   "execution_count": null,
   "id": "eae725b4-5239-4134-b06b-4c2f0d9e7e4d",
   "metadata": {},
   "outputs": [],
   "source": [
    "model = ARIMA(data, order=(1,1,1))"
   ]
  },
  {
   "cell_type": "code",
   "execution_count": null,
   "id": "7568a573-9fe2-4722-a89f-b05e2447285e",
   "metadata": {},
   "outputs": [],
   "source": [
    "arima_model = model.fit()"
   ]
  },
  {
   "cell_type": "code",
   "execution_count": null,
   "id": "dce2b697-e5c8-4448-b1cb-1b5e5d254d69",
   "metadata": {},
   "outputs": [],
   "source": [
    "arima_model.params"
   ]
  },
  {
   "cell_type": "code",
   "execution_count": null,
   "id": "d46f5b64-2c8f-4d70-82c5-0bff14d404a0",
   "metadata": {},
   "outputs": [],
   "source": [
    "arima_model.forecast(1)"
   ]
  },
  {
   "cell_type": "code",
   "execution_count": null,
   "id": "49437b64-5ddc-4e14-bb0c-800c5f430dee",
   "metadata": {},
   "outputs": [],
   "source": []
  }
 ],
 "metadata": {
  "kernelspec": {
   "display_name": "Python 3 (ipykernel)",
   "language": "python",
   "name": "python3"
  },
  "language_info": {
   "codemirror_mode": {
    "name": "ipython",
    "version": 3
   },
   "file_extension": ".py",
   "mimetype": "text/x-python",
   "name": "python",
   "nbconvert_exporter": "python",
   "pygments_lexer": "ipython3",
   "version": "3.12.4"
  }
 },
 "nbformat": 4,
 "nbformat_minor": 5
}
