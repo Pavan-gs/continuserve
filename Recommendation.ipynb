{
 "cells": [
  {
   "cell_type": "raw",
   "id": "862cd815-bc8a-46ca-ade8-b713075fee82",
   "metadata": {},
   "source": [
    "# Weighted Average based --> Weighted avg = ((ar*vc)+(av*minv))/(vc+minv)\n",
    "\n",
    "avg_rating --> average rating for the movie as a number from 0 to 10 \n",
    "vote_count --> Number of votes for a movie\n",
    "avg_vote --> average vote across the whole report/data (constant)\n",
    "min_votes --> Minimum votes required to be in the top 250"
   ]
  },
  {
   "cell_type": "code",
   "execution_count": null,
   "id": "c0c0a31e-b523-4fd3-90ca-372b1a8d2607",
   "metadata": {},
   "outputs": [],
   "source": [
    "import pandas as pd"
   ]
  },
  {
   "cell_type": "code",
   "execution_count": null,
   "id": "b5866f89-bf46-41e9-896f-ae1cfbd261fd",
   "metadata": {},
   "outputs": [],
   "source": [
    "movies = pd.read_csv(\"tmdb_5000_movies.csv\")"
   ]
  },
  {
   "cell_type": "code",
   "execution_count": null,
   "id": "174485d3-620c-4893-ab42-21456c5989cc",
   "metadata": {},
   "outputs": [],
   "source": [
    "movies[:2]"
   ]
  },
  {
   "cell_type": "code",
   "execution_count": null,
   "id": "39baebcd-08e8-4afb-9066-1f0e67b038f9",
   "metadata": {},
   "outputs": [],
   "source": [
    "credits = pd.read_csv(\"credits.csv\")"
   ]
  },
  {
   "cell_type": "code",
   "execution_count": null,
   "id": "e96d8430-5e42-4d06-b5de-dcf2e076f3c1",
   "metadata": {},
   "outputs": [],
   "source": [
    "credits[:2]"
   ]
  },
  {
   "cell_type": "code",
   "execution_count": null,
   "id": "0b876572-bdd5-4e05-97b0-8340ed0abdb4",
   "metadata": {},
   "outputs": [],
   "source": [
    "movies[:2]"
   ]
  },
  {
   "cell_type": "code",
   "execution_count": null,
   "id": "d5db8ab5-814c-4cb0-a9fd-37fa97f347b4",
   "metadata": {},
   "outputs": [],
   "source": [
    "movies.shape"
   ]
  },
  {
   "cell_type": "code",
   "execution_count": null,
   "id": "f4ac32c8-f345-4b39-83ea-212545f8905c",
   "metadata": {},
   "outputs": [],
   "source": [
    "credits.shape"
   ]
  },
  {
   "cell_type": "code",
   "execution_count": null,
   "id": "53ea129b-2208-4ec8-97b0-f12feb2b5bd5",
   "metadata": {},
   "outputs": [],
   "source": [
    "credits = credits.rename(columns={'movie_id':'id'})"
   ]
  },
  {
   "cell_type": "code",
   "execution_count": null,
   "id": "89f5c2ac-6159-4d63-a447-410c9d4eed3c",
   "metadata": {},
   "outputs": [],
   "source": [
    "df = credits.merge(movies, on='id')"
   ]
  },
  {
   "cell_type": "code",
   "execution_count": null,
   "id": "aba380bb-e33e-451b-9e0d-eaa61f44e2b2",
   "metadata": {},
   "outputs": [],
   "source": [
    "df[:2]"
   ]
  },
  {
   "cell_type": "code",
   "execution_count": null,
   "id": "417016a1-09e3-47ae-a452-0a06bdbd191e",
   "metadata": {},
   "outputs": [],
   "source": [
    "vote_count = df['vote_count']"
   ]
  },
  {
   "cell_type": "code",
   "execution_count": null,
   "id": "eb8c2805-e0ce-462a-9f72-7249839be19b",
   "metadata": {},
   "outputs": [],
   "source": [
    "avg_rating = df['vote_average']"
   ]
  },
  {
   "cell_type": "code",
   "execution_count": null,
   "id": "b4523c23-1102-4255-a171-64db4e724418",
   "metadata": {},
   "outputs": [],
   "source": [
    "avg_vote = df['vote_average'].mean()"
   ]
  },
  {
   "cell_type": "code",
   "execution_count": null,
   "id": "77dbdbb2-135c-4e0e-ad4b-39aed2fbbc2d",
   "metadata": {},
   "outputs": [],
   "source": [
    "avg_vote"
   ]
  },
  {
   "cell_type": "code",
   "execution_count": null,
   "id": "c3a329fd-489f-495c-af93-7de5d5e54d49",
   "metadata": {},
   "outputs": [],
   "source": [
    "min_votes = df['vote_count'].quantile(0.75)"
   ]
  },
  {
   "cell_type": "code",
   "execution_count": null,
   "id": "92b01e01-8bb8-4535-b1ac-4e8abd314f80",
   "metadata": {},
   "outputs": [],
   "source": [
    "import seaborn as sns"
   ]
  },
  {
   "cell_type": "code",
   "execution_count": null,
   "id": "48ec2c87-2e03-494b-bef0-9c84c95d6bd4",
   "metadata": {},
   "outputs": [],
   "source": [
    "sns.boxplot(y=df['vote_count'])"
   ]
  },
  {
   "cell_type": "code",
   "execution_count": null,
   "id": "6c4ee407-3add-4fc4-ba3c-adb2e5af951a",
   "metadata": {},
   "outputs": [],
   "source": [
    "df[df.vote_count==1]"
   ]
  },
  {
   "cell_type": "code",
   "execution_count": null,
   "id": "a1ff26d0-dc83-4b76-9293-ccc8861bad48",
   "metadata": {},
   "outputs": [],
   "source": [
    "min_votes"
   ]
  },
  {
   "cell_type": "code",
   "execution_count": null,
   "id": "b64fa900-f840-4af0-807e-c9556cdd8e0f",
   "metadata": {},
   "outputs": [],
   "source": [
    "df['weighted_rating'] = ((avg_rating*vote_count)+(avg_vote*min_votes))/(vote_count+min_votes)"
   ]
  },
  {
   "cell_type": "code",
   "execution_count": null,
   "id": "3ff010f1-92dd-4530-9eaa-1d15e6c3ed28",
   "metadata": {},
   "outputs": [],
   "source": [
    "# Recommend movies based on rating"
   ]
  },
  {
   "cell_type": "code",
   "execution_count": null,
   "id": "3a132793-daea-472e-bbeb-d92ac4d60e0e",
   "metadata": {},
   "outputs": [],
   "source": [
    "df_sorted = df.sort_values('weighted_rating', ascending=False)"
   ]
  },
  {
   "cell_type": "code",
   "execution_count": null,
   "id": "2a1d3668-b4ef-4b27-b8dd-51eb266eb63b",
   "metadata": {},
   "outputs": [],
   "source": [
    "df_sorted[:2]"
   ]
  },
  {
   "cell_type": "code",
   "execution_count": null,
   "id": "9fcdd65b-4d03-4f04-a8a8-b22e630aad47",
   "metadata": {},
   "outputs": [],
   "source": [
    "import matplotlib.pyplot as plt"
   ]
  },
  {
   "cell_type": "code",
   "execution_count": null,
   "id": "f2209a2d-48ea-48ec-be90-64c2a23a19d9",
   "metadata": {},
   "outputs": [],
   "source": [
    "# Recommend movies based on voting and rating (vote count & voting avg)"
   ]
  },
  {
   "cell_type": "code",
   "execution_count": null,
   "id": "2a51c89b-35f0-4615-9652-7618da7cd38b",
   "metadata": {},
   "outputs": [],
   "source": [
    "plt.figure(figsize=(15,6))\n",
    "ax1 = sns.barplot(x=df_sorted['weighted_rating'].head(10), y = df_sorted['original_title'].head(10), data = df_sorted)\n",
    "plt.xlabel('rating')\n",
    "plt.ylabel('movie_name')\n",
    "plt.show()"
   ]
  },
  {
   "cell_type": "code",
   "execution_count": null,
   "id": "4f6e643f-b5ca-4e5d-b153-3bbfa53980cf",
   "metadata": {},
   "outputs": [],
   "source": [
    "# Recommend based on popularity"
   ]
  },
  {
   "cell_type": "code",
   "execution_count": null,
   "id": "b668a234-8839-4d33-a29e-aac523a369c0",
   "metadata": {},
   "outputs": [],
   "source": [
    "df_popularity = df.sort_values('popularity', ascending=False)"
   ]
  },
  {
   "cell_type": "code",
   "execution_count": null,
   "id": "388c87ab-3eb7-4118-9b46-96b194ecb95e",
   "metadata": {},
   "outputs": [],
   "source": [
    "df.columns"
   ]
  },
  {
   "cell_type": "code",
   "execution_count": null,
   "id": "680009b3-b1f8-426b-92ba-3a81cc280634",
   "metadata": {},
   "outputs": [],
   "source": [
    "plt.figure(figsize=(15,6))\n",
    "ax1 = sns.barplot(x=df_popularity['popularity'].head(10), y = df_popularity['original_title'].head(10))\n",
    "plt.xlabel('rating')\n",
    "plt.ylabel('movie_name')\n",
    "plt.show()"
   ]
  },
  {
   "cell_type": "code",
   "execution_count": null,
   "id": "bdb5bd1e-5268-44a4-bbba-c0422d0b14df",
   "metadata": {},
   "outputs": [],
   "source": [
    "# Recommend movies based on voting and rating (vote count & voting avg) and popularity --> Weighted_avg"
   ]
  },
  {
   "cell_type": "code",
   "execution_count": null,
   "id": "2d72b8ca-e6c3-478e-8aaa-ecd2f0cb70bf",
   "metadata": {},
   "outputs": [],
   "source": [
    "from sklearn.preprocessing import MinMaxScaler"
   ]
  },
  {
   "cell_type": "code",
   "execution_count": null,
   "id": "b2020df6-dc5a-49b8-bb5b-1a6f798a938f",
   "metadata": {},
   "outputs": [],
   "source": [
    "mx = MinMaxScaler()"
   ]
  },
  {
   "cell_type": "code",
   "execution_count": null,
   "id": "606f287f-ee7e-4cfa-88b6-22d15adaf2ac",
   "metadata": {},
   "outputs": [],
   "source": [
    "df_normalized = mx.fit_transform(df[['weighted_rating','popularity']])"
   ]
  },
  {
   "cell_type": "code",
   "execution_count": null,
   "id": "348537af-1a5a-42f2-94ef-a5bc3ace4a3a",
   "metadata": {},
   "outputs": [],
   "source": [
    "df_normalized = pd.DataFrame(df_normalized, columns=[['weighted_rating_norm','popularity_norm']])"
   ]
  },
  {
   "cell_type": "code",
   "execution_count": null,
   "id": "20285028-9624-4964-af8f-36c8cc6cefb7",
   "metadata": {},
   "outputs": [],
   "source": [
    "df_normalized[:2]"
   ]
  },
  {
   "cell_type": "code",
   "execution_count": null,
   "id": "b1312e1c-1435-4319-a90d-e6a2b3e48fa4",
   "metadata": {},
   "outputs": [],
   "source": [
    "df[['weighted_rating_norm','popularity_norm']] = df_normalized"
   ]
  },
  {
   "cell_type": "code",
   "execution_count": null,
   "id": "dec84f9c-323d-42b8-a188-12c4fc8390c4",
   "metadata": {},
   "outputs": [],
   "source": [
    "df[:2]"
   ]
  },
  {
   "cell_type": "code",
   "execution_count": null,
   "id": "8a2064be-31b6-46dc-9760-310d0a3d212c",
   "metadata": {},
   "outputs": [],
   "source": [
    "df['score'] = df['weighted_rating_norm']*0.5+df['popularity_norm']*0.5"
   ]
  },
  {
   "cell_type": "code",
   "execution_count": null,
   "id": "161b7165-212f-42ed-8b4a-27d7d63d8477",
   "metadata": {},
   "outputs": [],
   "source": [
    "df['score'][:5]"
   ]
  },
  {
   "cell_type": "code",
   "execution_count": null,
   "id": "d42f03e7-60b1-4b05-89fd-bfe35ee2e9d8",
   "metadata": {},
   "outputs": [],
   "source": [
    "df['weighted_rating'][:5]"
   ]
  },
  {
   "cell_type": "code",
   "execution_count": null,
   "id": "4927c589-05e3-46e2-82bd-02b856bcb78f",
   "metadata": {},
   "outputs": [],
   "source": [
    "df['popularity'][:5]"
   ]
  },
  {
   "cell_type": "code",
   "execution_count": null,
   "id": "086c62dd-c5ff-4cae-bdf0-fdf0c65a9751",
   "metadata": {},
   "outputs": [],
   "source": [
    "score_sorted = df.sort_values('score', ascending=False)"
   ]
  },
  {
   "cell_type": "code",
   "execution_count": null,
   "id": "8c43e9ce-ef51-45f9-934b-9772314b2c86",
   "metadata": {},
   "outputs": [],
   "source": [
    "plt.figure(figsize=(15,6))\n",
    "ax1 = sns.barplot(x=score_sorted['score'].head(10), y = score_sorted['original_title'].head(10))\n",
    "plt.xlabel('score')\n",
    "plt.ylabel('movie_name')\n",
    "plt.show()"
   ]
  },
  {
   "cell_type": "code",
   "execution_count": null,
   "id": "7a1346a9-1ae2-429b-acf9-e409b5de4351",
   "metadata": {},
   "outputs": [],
   "source": [
    "# Content based recommendation --> Similar items --> Pairwise distance, Jaccard similarity/euclidean/minkowski, cosine similarity, linear and non-linear kernels"
   ]
  },
  {
   "cell_type": "code",
   "execution_count": null,
   "id": "87b2d052-edac-4ba1-8fd5-b7c41e437a39",
   "metadata": {},
   "outputs": [],
   "source": [
    "df[:2]"
   ]
  },
  {
   "cell_type": "code",
   "execution_count": null,
   "id": "6e54768d-637c-4a01-b14a-6b4f1284b5eb",
   "metadata": {},
   "outputs": [],
   "source": [
    "df['overview'][:5]"
   ]
  },
  {
   "cell_type": "code",
   "execution_count": null,
   "id": "61345e29-9d0c-4d74-b2b1-7ace4a953646",
   "metadata": {},
   "outputs": [],
   "source": [
    "# TF/IDF"
   ]
  },
  {
   "cell_type": "code",
   "execution_count": null,
   "id": "0ecb25a9-325a-40a3-8631-dfda013cda6a",
   "metadata": {},
   "outputs": [],
   "source": [
    "from sklearn.feature_extraction.text import TfidfVectorizer"
   ]
  },
  {
   "cell_type": "code",
   "execution_count": null,
   "id": "a6f99051-756c-455c-a672-dc327a23719b",
   "metadata": {},
   "outputs": [],
   "source": [
    "# term frequency --> tf --> How many times a word has occured in a document\n",
    "# inverse document frequency --> idf --> how many documents has that word"
   ]
  },
  {
   "cell_type": "code",
   "execution_count": null,
   "id": "0e49cae5-d8b1-4a51-a0d0-75b96edf570a",
   "metadata": {},
   "outputs": [],
   "source": [
    "# get rid of stop words --> this, that , is, was"
   ]
  },
  {
   "cell_type": "code",
   "execution_count": null,
   "id": "afd8529b-7102-4cd7-ae38-f6fce8ee6e9e",
   "metadata": {},
   "outputs": [],
   "source": [
    "tfidf = TfidfVectorizer(stop_words='english')"
   ]
  },
  {
   "cell_type": "code",
   "execution_count": null,
   "id": "b60e63b4-2cef-418e-bff2-ed8699bbf1dc",
   "metadata": {},
   "outputs": [],
   "source": [
    "help(TfidfVectorizer)"
   ]
  },
  {
   "cell_type": "code",
   "execution_count": null,
   "id": "19bd333e-27f6-4350-9f99-60609ca42f23",
   "metadata": {},
   "outputs": [],
   "source": [
    "# Stemming should be done --> loving, loved, love, lovable --> love"
   ]
  },
  {
   "cell_type": "code",
   "execution_count": null,
   "id": "c908ee0f-f7f9-4d06-ab4d-bbe14319a5fa",
   "metadata": {},
   "outputs": [],
   "source": [
    "df1 = df.copy()"
   ]
  },
  {
   "cell_type": "code",
   "execution_count": null,
   "id": "5819d6da-6c30-4856-a258-44c321e0eb54",
   "metadata": {},
   "outputs": [],
   "source": [
    "df1['overview'] = df1['overview'].fillna('')"
   ]
  },
  {
   "cell_type": "code",
   "execution_count": null,
   "id": "ff02f171-8390-496a-a7ea-4af37155f4f5",
   "metadata": {},
   "outputs": [],
   "source": [
    "tfidf_matrix = tfidf.fit_transform(df1['overview'])"
   ]
  },
  {
   "cell_type": "code",
   "execution_count": null,
   "id": "f55c3a76-573f-41ca-be42-10c48837d9d3",
   "metadata": {},
   "outputs": [],
   "source": [
    "tfidf_matrix"
   ]
  },
  {
   "cell_type": "code",
   "execution_count": null,
   "id": "20ca6323-926a-4148-929d-d000528ce205",
   "metadata": {},
   "outputs": [],
   "source": [
    "from sklearn.metrics.pairwise import cosine_similarity"
   ]
  },
  {
   "cell_type": "code",
   "execution_count": null,
   "id": "e88aecde-a1cc-42cb-925c-9ecab9ebcf61",
   "metadata": {},
   "outputs": [],
   "source": [
    "# we are dealing with huge sparse matrix, and hence let's use a kernel"
   ]
  },
  {
   "cell_type": "code",
   "execution_count": null,
   "id": "e92c4f44-11e3-43b6-a620-e4e3fa426e90",
   "metadata": {},
   "outputs": [],
   "source": [
    "from sklearn.metrics.pairwise import linear_kernel"
   ]
  },
  {
   "cell_type": "code",
   "execution_count": null,
   "id": "d53aff9f-cca8-4eac-8e76-728a369ab7c7",
   "metadata": {},
   "outputs": [],
   "source": [
    "cosine_sim = linear_kernel(tfidf_matrix, tfidf_matrix)"
   ]
  },
  {
   "cell_type": "code",
   "execution_count": null,
   "id": "feda4c03-8cf6-43e9-9722-83808f5617a3",
   "metadata": {},
   "outputs": [],
   "source": [
    "cosine_sim[0]"
   ]
  },
  {
   "cell_type": "code",
   "execution_count": null,
   "id": "e319039b-becd-44cb-a25b-f514ee47a6b1",
   "metadata": {},
   "outputs": [],
   "source": [
    "indices = pd.Series(df1.index, index=df1['title_x']).drop_duplicates()"
   ]
  },
  {
   "cell_type": "code",
   "execution_count": null,
   "id": "6354a737-afdd-40a1-a613-23504bfbc450",
   "metadata": {},
   "outputs": [],
   "source": [
    "indices"
   ]
  },
  {
   "cell_type": "code",
   "execution_count": null,
   "id": "3079f03a-4b6b-435d-881c-78522ad70600",
   "metadata": {},
   "outputs": [],
   "source": [
    "df1.index"
   ]
  },
  {
   "cell_type": "code",
   "execution_count": null,
   "id": "c597abe1-32f8-40c6-b317-a24d0eec8e96",
   "metadata": {},
   "outputs": [],
   "source": [
    "df1.drop('title_y', axis=1, inplace=True)"
   ]
  },
  {
   "cell_type": "code",
   "execution_count": null,
   "id": "f5670b72-ac34-46ab-84ce-43086f31525e",
   "metadata": {},
   "outputs": [],
   "source": [
    "cosine_sim[0][:815]"
   ]
  },
  {
   "cell_type": "code",
   "execution_count": null,
   "id": "fb3aaa7b-5b4f-4f36-9de1-4e21d43e1d2e",
   "metadata": {},
   "outputs": [],
   "source": [
    "for ind,val in enumerate(\"abcd\"):\n",
    "    print(ind,val)"
   ]
  },
  {
   "cell_type": "code",
   "execution_count": null,
   "id": "ba4e1efd-ae64-4417-986f-467be65fdd72",
   "metadata": {},
   "outputs": [],
   "source": [
    "list(enumerate(cosine_sim[indices['Interstellar']]))                                        "
   ]
  },
  {
   "cell_type": "code",
   "execution_count": null,
   "id": "18b78f68-f8dc-4f2b-b6a8-2a178741883e",
   "metadata": {},
   "outputs": [],
   "source": [
    "df1.iloc[4353]"
   ]
  },
  {
   "cell_type": "code",
   "execution_count": null,
   "id": "8eba01e1-3d5f-42b0-85c9-9e8846598c8a",
   "metadata": {},
   "outputs": [],
   "source": [
    "sorted(list(enumerate(cosine_sim[indices['Interstellar']])), key=lambda x:x[1],reverse=True)                      "
   ]
  },
  {
   "cell_type": "code",
   "execution_count": null,
   "id": "72bfff5c-ecff-4c1e-b522-f570fa9ce0db",
   "metadata": {},
   "outputs": [],
   "source": []
  }
 ],
 "metadata": {
  "kernelspec": {
   "display_name": "Python 3 (ipykernel)",
   "language": "python",
   "name": "python3"
  },
  "language_info": {
   "codemirror_mode": {
    "name": "ipython",
    "version": 3
   },
   "file_extension": ".py",
   "mimetype": "text/x-python",
   "name": "python",
   "nbconvert_exporter": "python",
   "pygments_lexer": "ipython3",
   "version": "3.12.4"
  }
 },
 "nbformat": 4,
 "nbformat_minor": 5
}
