{
 "cells": [
  {
   "cell_type": "code",
   "execution_count": null,
   "id": "8b7e6de7-d8b0-4088-8e26-7c620f021a76",
   "metadata": {},
   "outputs": [],
   "source": [
    "import pandas as pd"
   ]
  },
  {
   "cell_type": "code",
   "execution_count": null,
   "id": "4386dd67-fba3-4ca1-898f-b256154db4cc",
   "metadata": {},
   "outputs": [],
   "source": [
    "df = pd.read_csv(\"E:/data/Ecommerce_data.csv\")"
   ]
  },
  {
   "cell_type": "code",
   "execution_count": null,
   "id": "5bb894e3-2cee-4cb0-a189-4e632bb6e9b4",
   "metadata": {},
   "outputs": [],
   "source": [
    "df.isna().sum()"
   ]
  },
  {
   "cell_type": "code",
   "execution_count": null,
   "id": "1b1db81e-12ab-419c-b3c9-80bbceb7138c",
   "metadata": {},
   "outputs": [],
   "source": [
    "df[df['Age'].isna()]"
   ]
  },
  {
   "cell_type": "code",
   "execution_count": null,
   "id": "77e836c5-538e-4fee-9ccc-1608537211f7",
   "metadata": {},
   "outputs": [],
   "source": [
    "import matplotlib.pyplot as plt"
   ]
  },
  {
   "cell_type": "code",
   "execution_count": null,
   "id": "e38a4573-bc15-496e-9b80-64a024d3ea40",
   "metadata": {},
   "outputs": [],
   "source": [
    "plt.scatter(df.Age,df['Signed in since(Days)'])"
   ]
  },
  {
   "cell_type": "code",
   "execution_count": null,
   "id": "3ae0b6a5-07b4-4ba6-b332-84861905e8f8",
   "metadata": {},
   "outputs": [],
   "source": [
    "df.Age.mean()"
   ]
  },
  {
   "cell_type": "code",
   "execution_count": null,
   "id": "8ea54277-1d17-464b-8f9a-c4aec661f6dc",
   "metadata": {},
   "outputs": [],
   "source": [
    "df[['Job Type','Age']].groupby('Job Type').mean()"
   ]
  },
  {
   "cell_type": "code",
   "execution_count": null,
   "id": "bd38c8b1-8047-45fe-bcf4-b4f4e29539e6",
   "metadata": {},
   "outputs": [],
   "source": [
    "# Function to fill missing values in 'age' column with mean age by 'job_type'\n",
    "def fill_missing_age(df):\n",
    "    # Calculate mean age for each job type\n",
    "    mean_age_by_job = df.groupby('Job Type')['Age'].transform('mean')\n",
    "    \n",
    "    # Fill missing age values with the mean age of corresponding job type\n",
    "    df['Age'] = df['Age'].fillna(mean_age_by_job)\n",
    "    return df\n",
    "\n",
    "# Apply the function\n",
    "df_filled = fill_missing_age(df)\n",
    "\n",
    "print(df_filled)"
   ]
  },
  {
   "cell_type": "code",
   "execution_count": null,
   "id": "4361268c-40d9-4463-8a83-68db559320b0",
   "metadata": {},
   "outputs": [],
   "source": [
    "df_filled[:10]"
   ]
  },
  {
   "cell_type": "code",
   "execution_count": null,
   "id": "868429a0-10a9-4c7a-b213-ba8b3658f299",
   "metadata": {},
   "outputs": [],
   "source": [
    "mtcars = pd.read_csv(\"E:/data/mtcars.csv\")"
   ]
  },
  {
   "cell_type": "code",
   "execution_count": null,
   "id": "90216ea4-8ce8-42d3-b858-4ce2776c1aa1",
   "metadata": {},
   "outputs": [],
   "source": [
    "mtcars[:5]"
   ]
  },
  {
   "cell_type": "code",
   "execution_count": null,
   "id": "81d978a6-c1d6-4626-864d-9aab561e2e59",
   "metadata": {},
   "outputs": [],
   "source": [
    "x = mtcars.iloc[:,2:]"
   ]
  },
  {
   "cell_type": "code",
   "execution_count": null,
   "id": "6d37d228-2c45-4b14-8096-84fcd8095a8d",
   "metadata": {},
   "outputs": [],
   "source": [
    "y = mtcars['mpg']"
   ]
  },
  {
   "cell_type": "code",
   "execution_count": null,
   "id": "fb37cc7b-d2c4-4a19-8e29-23b6a6bed919",
   "metadata": {},
   "outputs": [],
   "source": [
    "from sklearn.linear_model import LinearRegression"
   ]
  },
  {
   "cell_type": "code",
   "execution_count": null,
   "id": "3e1463ae-6f94-468e-a943-b1d4a75368fa",
   "metadata": {},
   "outputs": [],
   "source": [
    "lr = LinearRegression()"
   ]
  },
  {
   "cell_type": "code",
   "execution_count": null,
   "id": "102fdccc-dbc2-4900-80f9-2dbda9aeab01",
   "metadata": {},
   "outputs": [],
   "source": [
    "model_lr = lr.fit(x,y)"
   ]
  },
  {
   "cell_type": "code",
   "execution_count": null,
   "id": "ed694824-105a-4e12-a07f-53c693840c34",
   "metadata": {},
   "outputs": [],
   "source": [
    "import numpy as np\n",
    "\n",
    "# Assuming 'model' is a pre-trained scikit-learn model (e.g., LinearRegression, RandomForest, etc.)\n",
    "\n",
    "def predict_single_row(model, input_row):\n",
    "    \"\"\"\n",
    "    Predicts the output for a single row using a pre-trained model.\n",
    "    \n",
    "    Parameters:\n",
    "    model: Trained scikit-learn model\n",
    "    input_row: List, NumPy array, or pandas Series/DataFrame representing a single row of input features\n",
    "    \n",
    "    Returns:\n",
    "    prediction: The model's prediction for the given input_row\n",
    "    \"\"\"\n",
    "    # Convert the input_row to a 2D array as required by scikit-learn models\n",
    "    input_row_2d = np.array(input_row).reshape(1, -1)\n",
    "    \n",
    "    # Use the model's predict method to get the prediction\n",
    "    prediction = model.predict(input_row_2d)\n",
    "    \n",
    "    return prediction[0]  # Return the scalar prediction (not in array form)\n",
    "\n",
    "# Example usage:\n",
    "# Let's assume 'model' is your trained model and 'single_row_data' is a list or NumPy array containing input features\n",
    "# single_row_data = [1.2, 3.4, 5.6, ...]  # Replace with your actual input data\n",
    "# prediction = predict_single_row(model, single_row_data)\n",
    "# print(\"Prediction:\", prediction)\n"
   ]
  },
  {
   "cell_type": "code",
   "execution_count": null,
   "id": "69072da0-f402-4394-a423-d1b7f0038a45",
   "metadata": {},
   "outputs": [],
   "source": [
    "predict_single_row(model=model_lr, input_row=mtcars.iloc[2,2:])"
   ]
  },
  {
   "cell_type": "code",
   "execution_count": null,
   "id": "db885689-f8e0-4381-a267-d0531a95b3dd",
   "metadata": {},
   "outputs": [],
   "source": [
    "mtcars[2:3]"
   ]
  },
  {
   "cell_type": "code",
   "execution_count": null,
   "id": "45805e87-dace-4f84-8a1f-19166d1203e2",
   "metadata": {},
   "outputs": [],
   "source": []
  }
 ],
 "metadata": {
  "kernelspec": {
   "display_name": "Python 3 (ipykernel)",
   "language": "python",
   "name": "python3"
  },
  "language_info": {
   "codemirror_mode": {
    "name": "ipython",
    "version": 3
   },
   "file_extension": ".py",
   "mimetype": "text/x-python",
   "name": "python",
   "nbconvert_exporter": "python",
   "pygments_lexer": "ipython3",
   "version": "3.12.4"
  }
 },
 "nbformat": 4,
 "nbformat_minor": 5
}
